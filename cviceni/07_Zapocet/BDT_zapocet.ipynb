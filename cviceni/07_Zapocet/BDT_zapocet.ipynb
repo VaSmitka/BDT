{
 "cells": [
  {
   "cell_type": "markdown",
   "metadata": {
    "collapsed": true
   },
   "source": [
    "Na vypracování testu máte 120 minut. Očekávanými a hodnocenými výstupy jsou:\n",
    "1.\tTextový soubor s názvem váš_login.txt (např. pascepet.txt) obsahující zdrojový kód příkazů, kterými jste provedli zadání. Pokud máte zároveň něco zjistit nebo vypsat, zaznamenejte to přímo do souboru, ideálně jako komentář. **Tento soubor na konci své práce zašlete mailem na adresu <jan.hucin@profinit.eu> a podepište se svým celým jménem.**\n",
    "2.\tExistence a vlastnosti souborů, adresářů, tabulek, které jste zkopírovali či vytvořili při plnění zadání. Ty zhodnotíme přímo na clusteru.\n",
    "V jednotlivých oblastech testu se hodnotí každý úkol nebo jeho část. Pokud si s nějakou částí zadání nebudete vědět rady, můžete ji přeskočit nebo zadání splnit bez této části, počet bodů se pak přiměřeně sníží.\n",
    "\n",
    "### HDFS operace (3 body)\n",
    "- Nastavte na svém uživatelském adresáři (/user/*váš_login*) v HDFS pro veřejnost právo read a execute. (Práva pro vlastníka a skupinu ponechte tak, jak jsou nyní.)"
   ]
  },
  {
   "cell_type": "code",
   "execution_count": null,
   "metadata": {},
   "outputs": [],
   "source": [
    "hdfs dfs -chmod 755 /user/my_login\n",
    "# nebo\n",
    "hdfs dfs -chmod 755 ."
   ]
  },
  {
   "cell_type": "markdown",
   "metadata": {
    "collapsed": true
   },
   "source": [
    "- Ve svém uživatelském adresáři na HDFS (/user/*váš_login*) založte podadresář **chess_ratings** a nastavte u něj také pro veřejnost právo read a execute."
   ]
  },
  {
   "cell_type": "code",
   "execution_count": null,
   "metadata": {},
   "outputs": [],
   "source": [
    "hdfs dfs -mkdir chess_ratings\n",
    "hdfs dfs -chmod 755 chess_ratings"
   ]
  },
  {
   "cell_type": "markdown",
   "metadata": {
    "collapsed": true
   },
   "source": [
    "- Zkopírujte z lokálního filesystemu na metacentru z podadresáře /home/pascepet/fel_bigdata/data/chess_ratings všechny soubory se jménem ve tvaru **standard_**___RRMM.csv___ na HDFS do podadresáře, který jste založili v předchozím kroku."
   ]
  },
  {
   "cell_type": "code",
   "execution_count": null,
   "metadata": {},
   "outputs": [],
   "source": [
    "hdfs dfs -put /home/pascepet/fel_bigdata/data/chess_ratings/standard_????.csv chess_ratings"
   ]
  },
  {
   "cell_type": "markdown",
   "metadata": {
    "collapsed": true
   },
   "source": [
    "> V dalších třech částech budete pracovat se stejnými daty. Na HDFS je adresář **/user/pascepet/data/chess_ratings_red** obsahující měsíční výpisy ratingové listiny hráčů šachu. Soubory jsou standardní textové s oddělovači (znak |), neobsahují hlavičky (názvy) sloupců. Každý řádek souboru obsahuje postupně tyto údaje: id a jméno hráče, stát, pohlaví, rating, počet odehraných her za minulé období, rok narození, rok a měsíc výpisu ratingové listiny.\n",
    "\n",
    "### Práce s Hive (9 bodů)\n",
    "Zkontrolujte, že máte založenou databázi Hive (název = váš login), a pokud ne, založte ji. Dále pracujte se svou databází."
   ]
  },
  {
   "cell_type": "code",
   "execution_count": null,
   "metadata": {},
   "outputs": [],
   "source": [
    "create database my_login;\n",
    "use my_login;"
   ]
  },
  {
   "cell_type": "markdown",
   "metadata": {
    "collapsed": true
   },
   "source": [
    "- Vytvořte externí tabulku Hive *ratings_ext* založenou na datech z výše uvedeného adresáře (v rámečku). Názvy polí a typy zvolte vhodně podle svého uvážení."
   ]
  },
  {
   "cell_type": "code",
   "execution_count": null,
   "metadata": {},
   "outputs": [],
   "source": [
    "create external table ratings_ext (\n",
    "id bigint,\n",
    "name string,\n",
    "fed string,\n",
    "sex varchar(2),\n",
    "rating smallint,\n",
    "gms smallint,\n",
    "birth_year smallint,\n",
    "yr smallint,\n",
    "mon tinyint\n",
    ")\n",
    "row format delimited\n",
    "fields terminated by '|'\n",
    "lines terminated by '\\n'\n",
    "stored as textfile\n",
    "location '/user/pascepet/data/chess_ratings_red/';"
   ]
  },
  {
   "cell_type": "markdown",
   "metadata": {
    "collapsed": true
   },
   "source": [
    "- Vytvořte managed (interní) tabulku Hive *ratings* s formátem ORC a kompresí ZLIB. Do této tabulky přeneste data z externí tabulky, ale jen ty řádky, kde je jméno hráče neprázdné, rok narození větší než 0 a hodnota ratingu není null."
   ]
  },
  {
   "cell_type": "code",
   "execution_count": null,
   "metadata": {},
   "outputs": [],
   "source": [
    "create table ratings (\n",
    "id bigint,\n",
    "name string,\n",
    "fed string,\n",
    "sex varchar(2),\n",
    "rating smallint,\n",
    "gms smallint,\n",
    "birth_year smallint,\n",
    "yr smallint,\n",
    "mon tinyint\n",
    ")\n",
    "stored as orc\n",
    "tblproperties (\"orc.compress\"=\"ZLIB\");\n",
    "\n",
    "insert overwrite table ratings\n",
    "select * from ratings_ext\n",
    "where name<>'' and birth_year>0 and rating is not null;"
   ]
  },
  {
   "cell_type": "markdown",
   "metadata": {
    "collapsed": true
   },
   "source": [
    "Z výsledné tabulky *ratings* zjistěte pomocí SQL dotazu:\n",
    "- Který stát má nejnižší věkový průměr ze všech záznamů ve výpisech ratingové listiny a kolik tento průměr je (věk počítejte k roku 2019)?"
   ]
  },
  {
   "cell_type": "code",
   "execution_count": null,
   "metadata": {},
   "outputs": [],
   "source": [
    "select fed, 2019-avg(birth_year) vek_prum\n",
    "from ratings\n",
    "group by fed\n",
    "order by vek_prum\n",
    "limit 1;"
   ]
  },
  {
   "cell_type": "markdown",
   "metadata": {
    "collapsed": true
   },
   "source": [
    "- Kterých pět hráčů má největší (kladný) rozdíl mezi maximální a minimální hodnotou svého ratingu?"
   ]
  },
  {
   "cell_type": "code",
   "execution_count": null,
   "metadata": {},
   "outputs": [],
   "source": [
    "select id, name, max(rating)-min(rating) rozdil\n",
    "from ratings\n",
    "group by id, name\n",
    "order by rozdil desc\n",
    "limit 5;"
   ]
  },
  {
   "cell_type": "markdown",
   "metadata": {
    "collapsed": true
   },
   "source": [
    "### Spark RDD (9 bodů)\n",
    "- Načtěte obsah výše uvedeného adresáře (v rámečku) do RDD."
   ]
  },
  {
   "cell_type": "code",
   "execution_count": null,
   "metadata": {},
   "outputs": [],
   "source": [
    "rat = sc.textFile('/user/pascepet/data/chess_ratings/')"
   ]
  },
  {
   "cell_type": "markdown",
   "metadata": {
    "collapsed": true
   },
   "source": [
    "- Zjistěte, kolik unikátních hráčů je celkem ve výpisech uvedeno. Předpokládáme, že hráč je identifikován kombinací svého id a jména, záznamy s prázdným jménem neberte v úvahu."
   ]
  },
  {
   "cell_type": "code",
   "execution_count": null,
   "metadata": {},
   "outputs": [],
   "source": [
    "# redukuje data jen na id a jmeno, vyhodi duplicity\n",
    "rat = rat.map(lambda line: (line.split('|')[0], line.split('|')[1]))\n",
    "rat = rat.distinct()\n",
    "\n",
    "# vyhodi se prazdna jmena\n",
    "rat = rat.filter(lambda pair: pair[1]!='')\n",
    "\n",
    "# nakesovat pro rychlejsi dalsi zpracovani\n",
    "rat.cache()\n",
    "\n",
    "# kolik unikatnich hracu ma aspon jeden zaznam\n",
    "rat.count()\n",
    "# --> 325 679 hracu"
   ]
  },
  {
   "cell_type": "markdown",
   "metadata": {
    "collapsed": true
   },
   "source": [
    "- Jméno každého hráče má několik částí, které jsou odděleny čárkou (např. „Navara, David“). Zjistěte, jaké jsou četnosti pro jednotlivé počty částí jména (kolik unikátních hráčů má jméno o jedné části, kolik jméno o dvou částech atd.)."
   ]
  },
  {
   "cell_type": "code",
   "execution_count": null,
   "metadata": {},
   "outputs": [],
   "source": [
    "rat_name_part_num = rat.map(lambda pair: len(pair[1].split(',')))\n",
    "rat_name_part_num = rat_name_part_num.map(lambda pocet: (pocet,1))\n",
    "rat_freq = rat_name_part_num.reduceByKey(lambda a,b: a+b)\n",
    "rat_freq.collect()\n",
    "# --> [(1, 28970), (2, 295414), (3, 1295)]"
   ]
  },
  {
   "cell_type": "markdown",
   "metadata": {
    "collapsed": true
   },
   "source": [
    "- Zjistěte, v kolika případech je některá část jména rovna řetězci „Mustafa“. Pokud je v jednom jménu víc takových částí, počítá se každá část."
   ]
  },
  {
   "cell_type": "code",
   "execution_count": null,
   "metadata": {},
   "outputs": [],
   "source": [
    "rat_mustafa = rat.flatMap(lambda pair: pair[1].split(','))\n",
    "rat_mustafa = rat_mustafa.map(lambda name: name.strip())\n",
    "rat_mustafa.filter(lambda name: name=='Mustafa').count()\n",
    "# --> 127"
   ]
  },
  {
   "cell_type": "markdown",
   "metadata": {
    "collapsed": true
   },
   "source": [
    "### Spark SQL (9 bodů)\n",
    "- Načtěte obsah výše uvedeného adresáře (v rámečku) do DataFrame."
   ]
  },
  {
   "cell_type": "code",
   "execution_count": null,
   "metadata": {},
   "outputs": [],
   "source": [
    "from pyspark.sql.types import *\n",
    "\n",
    "# definice schematu\n",
    "schema_rat = StructType([\n",
    "    StructField(\"id\", LongType(), True),\n",
    "    StructField(\"name\", StringType(), True),\n",
    "    StructField(\"fed\", StringType(), True),\n",
    "    StructField(\"sex\", StringType(), True),\n",
    "    StructField(\"rating\", IntegerType(), True),\n",
    "    StructField(\"gms\", IntegerType(), True),\n",
    "    StructField(\"birth_year\", IntegerType(), True),\n",
    "    StructField(\"yr\", IntegerType(), True),\n",
    "    StructField(\"mon\", IntegerType(), True)])\n",
    "\n",
    "# nacteni dat\n",
    "ratDF = sqlContext.read \\\n",
    "    .format(\"com.databricks.spark.csv\") \\\n",
    "    .options(header=\"true\", delimiter = \"|\") \\\n",
    "    .load(\"/user/pascepet/data/chess_ratings_red\", schema=schema_rat)\n",
    "\n",
    "# je mozne nyni ocistit data\n",
    "ratDF = ratDF.filter(\"name<>'' and birth_year>0\")\n",
    "# nebo\n",
    "ratDF = ratDF.filter((ratDF.name!='') & (ratDF.birth_year>0))\n",
    "ratDF.cache()"
   ]
  },
  {
   "cell_type": "markdown",
   "metadata": {
    "collapsed": true
   },
   "source": [
    "- Které všechny ženy z ČR (stát „CZE“) měly za aspoň jedno období ve výpisu rating vyšší než 2300?"
   ]
  },
  {
   "cell_type": "code",
   "execution_count": null,
   "metadata": {},
   "outputs": [],
   "source": [
    "ratDF.filter(ratDF.sex=='F').filter(ratDF.fed=='CZE').filter(ratDF.rating>2300).select('id', 'name').distinct().show()\n",
    "#| 304050|   Krupkova, Petra|\n",
    "#| 308498|     Jackova, Jana|\n",
    "#| 320242|Olsarova, Karolina|\n",
    "#|1118080|     Worek, Joanna|"
   ]
  },
  {
   "cell_type": "markdown",
   "metadata": {
    "collapsed": true
   },
   "source": [
    "- Zjistěte, kteří tři hráči měli největší celkový počet odehraných her. Neberte v úvahu hráče s prázdným jménem."
   ]
  },
  {
   "cell_type": "code",
   "execution_count": null,
   "metadata": {},
   "outputs": [],
   "source": [
    "ratDFsum = ratDF.groupBy(ratDF.id, ratDF.name).sum('gms').toDF('id', 'name', 'gms_sum')\n",
    "ratDFsum.orderBy(ratDFsum.gms_sum.desc()).show()\n",
    "#| 5001277|Ramnathan, Balasu...|    300|\n",
    "#| 5041198|   Subramanian, T.V.|    288|\n",
    "#| 4101715|       Naumkin, Igor|    250|"
   ]
  },
  {
   "cell_type": "markdown",
   "metadata": {
    "collapsed": true
   },
   "source": [
    "- Vezmeme-li v úvahu jen hráče uvedené ve výpisech v prosinci 2017 i v prosinci 2018, jaké jsou průměrné ratingy těchto hráčů za každý z uvedených dvou měsíců?"
   ]
  },
  {
   "cell_type": "code",
   "execution_count": null,
   "metadata": {},
   "outputs": [],
   "source": [
    "ratDF17 = ratDF.filter((ratDF.yr==2017) & (ratDF.mon==12)).select('id', 'rating').toDF('id', 'rat17')\n",
    "ratDF18 = ratDF.filter((ratDF.yr==2018) & (ratDF.mon==12)).select('id', 'rating').toDF('id', 'rat18')\n",
    "ratDF17.join(ratDF18, ratDF17.id==ratDF18.id).groupBy().avg('rat17', 'rat18').show()\n",
    "#|        avg(rat17)|        avg(rat18)|\n",
    "#+------------------+------------------+\n",
    "#|1722.1577910035187|1724.5564836296196|"
   ]
  }
 ],
 "metadata": {
  "kernelspec": {
   "display_name": "Python 3",
   "language": "python",
   "name": "python3"
  },
  "language_info": {
   "codemirror_mode": {
    "name": "ipython",
    "version": 3
   },
   "file_extension": ".py",
   "mimetype": "text/x-python",
   "name": "python",
   "nbconvert_exporter": "python",
   "pygments_lexer": "ipython3",
   "version": "3.7.0"
  }
 },
 "nbformat": 4,
 "nbformat_minor": 1
}
