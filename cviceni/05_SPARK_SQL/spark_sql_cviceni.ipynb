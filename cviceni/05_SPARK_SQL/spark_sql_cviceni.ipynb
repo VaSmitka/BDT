{
 "cells": [
  {
   "cell_type": "markdown",
   "metadata": {
    "collapsed": true
   },
   "source": [
    "### Spuštění PySpark\n",
    "\n",
    "`pyspark --master yarn --num-executors 2 --executor-memory 4G --packages com.databricks:spark-csv_2.10:1.5.0 --conf spark.ui.port=1<ddmm>`, kde `<ddmm>` je váš den a měsíc narození, napr. spark.ui.port=10811"
   ]
  },
  {
   "cell_type": "code",
   "execution_count": null,
   "metadata": {},
   "outputs": [],
   "source": [
    "# uzitecny import\n",
    "from pyspark.sql import functions as F"
   ]
  },
  {
   "cell_type": "markdown",
   "metadata": {},
   "source": [
    "### 0. Spark SQL v jednoduchých příkladech\n",
    "\n",
    "Projděte si soubor s jednoduchými příklady `spark_sql_elementary.ipynb`."
   ]
  },
  {
   "cell_type": "markdown",
   "metadata": {},
   "source": [
    "### 1. Načtení dat a zakladní explorace\n",
    "\n",
    "#### Data\n",
    "\n",
    "Soubor obsahuje záznamy o písních.\n",
    "\n",
    "* format: CSV\n",
    "* cesta: `/user/pascepet/data/lyrics/lyrics.csv` (na HDFS)\n",
    "* oddelovac: `','`\n",
    "* header: ne\n",
    "* pole: `id, nazev, rok, interpret, zanr, text`\n",
    "\n",
    "1.1 Načtěte soubor do DataFrame (s automatickým odvozením schématu) a přiřaďte sloupcům správné názvy polí (viz výše).\n",
    "\n",
    "1.2 Soubor nakešujte do paměti.\n",
    "\n",
    "1.3 Vypište si ukázku dat.\n",
    "\n",
    "1.4 Zjistěte celkový počet záznamů (řádků) v DataFrame. *(362 237)*\n",
    "\n",
    "1.5 Zjistěte, kolik písní má jako interpreta Boba Dylana ('bob-dylan'). *(614)*\n",
    "\n",
    "1.6 Zjistěte, jaky je nejnižší a nejvyšší uvedený rok písně. *(67, 2038)*\n",
    "\n",
    "1.7 Vypište žánry v pořadí podle počtu zastoupených písní (od největšího po nejmenší). *(Rock 131 377, Pop 49 444 atd.)*\n",
    "\n",
    "1.8 Vytvořte si z DataFrame dočasnou tabulku a pokuste se zadání 1.4&ndash;1.7 provést i pomocí SQL."
   ]
  },
  {
   "cell_type": "markdown",
   "metadata": {},
   "source": [
    "### 2. Úprava a čištění dat\n",
    "\n",
    "2.1 Vyřaďte všechny záznamy, které mají uvedený rok mimo rozmezí 1950--2018. Zjistěte, kolik záznamů v DataFrame zůstalo. *(362 221)*\n",
    "\n",
    "2.2 Upravte texty písní takto:  \n",
    "* Text převeďte na malá písmena.\n",
    "* Všechny nealfanumerické znaky nahraďte mezerou.\n",
    "* Posloupnosti více mezer nahraďte jedinou mezerou.\n",
    "* Vypusťte mezery na obou krajích textu (funkce *trim*).  \n",
    "Podrobně o regulárních výrazech viz [manuál Pythonu](https://docs.python.org/2/library/re.html).\n",
    "\n",
    "2.3 Přidejte do DataFrame sloupec `slova_poc` obsahující počet všech slov písně. Slova jsou v textu oddělena mezerami. Zkontrolujte, zda pro písně s prázdným polem `text` je počet slov 0, a pokud to tak není, opravte v takových případech počet slov na 0.\n",
    "\n",
    "2.4 Výsledný DataFrame opět nakešujte."
   ]
  },
  {
   "cell_type": "markdown",
   "metadata": {},
   "source": [
    "### 3. Analytické dotazy\n",
    "\n",
    "3.1 Zjistěte, kolik interpretů ma aspoň 500 písní a kteří to jsou. Vytvořte si pro tyto interprety samostatný DataFrame, využijete ho v zadání 4.3. *(19; Bob Dylan 614, Chris Brown 655 atd.)*\n",
    "\n",
    "3.2 Vezmeme-li v úvahu jen písně s neprázdným textem (tj. počet slov větší než 0), který z interpretů s aspoň 100 takovými písněmi má nejvyšší průměrný počet slov na píseň? *(bone-thugs-n-harmony 758,05)*"
   ]
  },
  {
   "cell_type": "markdown",
   "metadata": {},
   "source": [
    "### 4. Text-mining\n",
    "\n",
    "4.1 Najděte 20 nejčastěji se vyskytujících aspoň dvouznakových slov v textech písní. (Každé slovo počítejte tolikrát, kolikrát je v textu uvedeno. Zde se hodí DataFrame zpracovat pomocí RDD transformací.)  \n",
    "*(('the', 2214416), ('you', 2121404), ('to', 1274821), ('and', 1256593), ..., ('no', 335530))*  \n",
    "Poté najděte 20 nejčastěji se vyskytujících aspoň dvouznakových slov s vyloučením stop-words. Soubor se stopwords je na HDFS: `/user/pascepet/data/stopwords.txt`  \n",
    "*(('can', 379061), ('don', 333748), ('love', 324916), ('like', 313862), ..., ('will', 170726))*\n",
    "\n",
    "4.2 Vyberte z množiny nejčastějších slov mimo stop-words tři podle vlastního uvážení. K DataFrame přidejte tři sloupce (pro každé slovo jeden sloupec) s příznakem True/False, zda je v písni dané slovo aspoň jednou uvedeno.\n",
    "\n",
    "4.3 U interpretů s aspoň 500 písněmi (viz 3.1) zjistěte, v jakém podílu jejich písní se vyskytují tři vámi vybraná častá slova ze zadání 4.2.\n",
    "\n",
    "|        interpret| avg(is_like)| avg(is_know)| avg(is_love)|\n",
    "|-----------------|-------------|-------------|-------------|\n",
    "|        bob-dylan| 0.480... | 0.451...| 0.335...|\n",
    "|      chris-brown| 0.743...| 0.774...| 0.603...|\n",
    "|       beach-boys| 0.301...| 0.392...| 0.417...|\n",
    "|  atd. | ... | ... | ... |\n"
   ]
  }
 ],
 "metadata": {
  "kernelspec": {
   "display_name": "Python 3",
   "language": "python",
   "name": "python3"
  },
  "language_info": {
   "codemirror_mode": {
    "name": "ipython",
    "version": 3
   },
   "file_extension": ".py",
   "mimetype": "text/x-python",
   "name": "python",
   "nbconvert_exporter": "python",
   "pygments_lexer": "ipython3",
   "version": "3.7.0"
  }
 },
 "nbformat": 4,
 "nbformat_minor": 1
}
