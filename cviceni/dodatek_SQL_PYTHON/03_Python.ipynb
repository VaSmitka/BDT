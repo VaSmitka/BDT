{
 "cells": [
  {
   "cell_type": "code",
   "execution_count": 24,
   "metadata": {},
   "outputs": [],
   "source": [
    "import random\n",
    "arr = [random.randint(0, 10) for i in xrange(20)]"
   ]
  },
  {
   "cell_type": "code",
   "execution_count": 25,
   "metadata": {
    "scrolled": true
   },
   "outputs": [
    {
     "name": "stdout",
     "output_type": "stream",
     "text": [
      "[3, 2, 2, 4, 1, 0, 7, 9, 1, 1, 2, 7, 4, 1, 8, 2, 6, 10, 7, 8]\n"
     ]
    }
   ],
   "source": [
    "print arr"
   ]
  },
  {
   "cell_type": "markdown",
   "metadata": {},
   "source": [
    "1. vypište každý druhý prvek pole"
   ]
  },
  {
   "cell_type": "markdown",
   "metadata": {},
   "source": [
    "2. vypište každý druhý prvek pole a jen tehdy, pokud je větší než 5"
   ]
  },
  {
   "cell_type": "markdown",
   "metadata": {},
   "source": [
    "3. vytvořte pole, které obsahuje druhé mocniny prvního pole"
   ]
  },
  {
   "cell_type": "markdown",
   "metadata": {},
   "source": [
    "4. vypište jen unikátní prvky pole"
   ]
  },
  {
   "cell_type": "markdown",
   "metadata": {},
   "source": [
    "5. napište funkci, která vrací dvojici (min, max) pro dané pole"
   ]
  },
  {
   "cell_type": "markdown",
   "metadata": {},
   "source": [
    "6 napište funkci, která vrací dvojici objekt/slovník {min:min(a), max:max(a)} pro dané pole"
   ]
  },
  {
   "cell_type": "code",
   "execution_count": 4,
   "metadata": {
    "collapsed": true
   },
   "outputs": [],
   "source": [
    "some_string = \"sOmE SiImPLe\""
   ]
  },
  {
   "cell_type": "markdown",
   "metadata": {},
   "source": [
    "7. zaměňte v řetězci velká písmena za malá a obráceně"
   ]
  },
  {
   "cell_type": "markdown",
   "metadata": {},
   "source": [
    "8. převeďte unixtime na datetime a vypište ho ve formátu yyyy-mm-dd HH:MM"
   ]
  },
  {
   "cell_type": "markdown",
   "metadata": {},
   "source": [
    "9. zjistěte, kolik sekund/dnů/týdnů uplynulo od data August 21, 2017 18:26:40 UTC"
   ]
  },
  {
   "cell_type": "code",
   "execution_count": null,
   "metadata": {
    "collapsed": true
   },
   "outputs": [],
   "source": [
    "sample_string = \"Give a man a fire and he's warm for the day. But set fire to him and he's warm for the rest of his life.\""
   ]
  },
  {
   "cell_type": "markdown",
   "metadata": {},
   "source": [
    "10. zjistěte počet slov v řetězci; slova jsou oddělena mezerou"
   ]
  },
  {
   "cell_type": "markdown",
   "metadata": {},
   "source": [
    "11. zjistěte četnost jednotlivých slov v řetězci a vypište je jako dict {item: frequency}"
   ]
  },
  {
   "cell_type": "markdown",
   "metadata": {},
   "source": [
    "12. zjistěte, kdo má svátek v den vašich narozenin: http://svatky.adresa.info/json?date=ddmm"
   ]
  },
  {
   "cell_type": "code",
   "execution_count": null,
   "metadata": {
    "collapsed": true
   },
   "outputs": [],
   "source": [
    "import json\n",
    "import requests"
   ]
  }
 ],
 "metadata": {
  "kernelspec": {
   "display_name": "Python 3",
   "language": "python",
   "name": "python3"
  },
  "language_info": {
   "codemirror_mode": {
    "name": "ipython",
    "version": 3
   },
   "file_extension": ".py",
   "mimetype": "text/x-python",
   "name": "python",
   "nbconvert_exporter": "python",
   "pygments_lexer": "ipython3",
   "version": "3.7.0"
  }
 },
 "nbformat": 4,
 "nbformat_minor": 2
}
