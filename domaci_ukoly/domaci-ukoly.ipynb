{
 "cells": [
  {
   "cell_type": "markdown",
   "metadata": {},
   "source": [
    "# Domácí úkoly\n",
    "\n",
    "**Termín:** 31. 12. 2018\n",
    "\n",
    "Řešení pošlete e-mailem na adresu [jan.hucin@profinit.eu](mailto:jan.hucin@profinit.eu). Případné dotazy pište na stejnou adresu.\n",
    "\n",
    "### Hive\n",
    "\n",
    "1. V rámci cvičení jste založili tabulku Hive s rozdělením na partitions podle čísla měsíce. Předpokládejme, že i v dalších letech budeme vždy na konci měsíce do tabulky doplňovat data, a to do nové partition, kterou ručně pojmenujeme podle měsíce a roku. Napište příkaz, který to bude provádět. (1 bod)\n",
    "\n",
    "1. Předpokládejme, že interní (managed) tabulka T má v poli ym šestiznakový řetězec obsahující rok a měsíc ve formátu YYYYMM. Podle tohoto sloupce je u tabulky definován partitioning. Vždy jednou za měsíc chceme smazat partition za stejný měsíc předchozího roku. Napište příkaz, který to bude provádět. (1 bod)\n",
    "\n",
    "1. Vytvořte pro Hive UDF na vzájemný převod teploty ve stupních Celsia na stupně Fahrenheita a opačně. Dodejte zdrojový kód funkce a příkaz Hive na vytvoření UDF. (3 body)\n",
    "\n",
    "### Spark\n",
    "\n",
    "* V adresáři `/user/pascepet/data/images/` jsou uloženy obrázky jako soubory ve formátu JPG. Z každého obrázku získejte data EXIF a z nich položky *DateTime*, *ExposureTime*, *ExifImageWidth* a *ExifImageHeight*.\n",
    "* Vytvořte DataFrame, který bude mít čtyři pole (sloupce) odpovídající výše uvedených čtyřem položkám. Každý obrázek bude mít v DataFrame jeden záznam (řádek). (2 body)\n",
    "* V DataFrame pomocí Sparku zjistěte:\n",
    "    - Jaká je průměrná doba expozice pro fotky pořizované mezi 9. a 15. hodinou a pro fotky mimo tuto dobu? (1 bod)\n",
    "    - Kolik fotek má rozlišení více než 4 miliony pixelů? (1 bod)\n",
    "    - Kolik fotek bylo pořízeno v jednotlivých kalendářních měsících? (1 bod)"
   ]
  }
 ],
 "metadata": {
  "kernelspec": {
   "display_name": "Python 3",
   "language": "python",
   "name": "python3"
  },
  "language_info": {
   "codemirror_mode": {
    "name": "ipython",
    "version": 3
   },
   "file_extension": ".py",
   "mimetype": "text/x-python",
   "name": "python",
   "nbconvert_exporter": "python",
   "pygments_lexer": "ipython3",
   "version": "3.7.0"
  }
 },
 "nbformat": 4,
 "nbformat_minor": 2
}
