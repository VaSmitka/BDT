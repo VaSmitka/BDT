{
 "cells": [
  {
   "cell_type": "markdown",
   "metadata": {},
   "source": [
    "`beeline -u \"jdbc:hive2://hador-c1.ics.muni.cz:10000/default;principal=hive/hador-c1.ics.muni.cz@ICS.MUNI.CZ\"`"
   ]
  },
  {
   "cell_type": "markdown",
   "metadata": {},
   "source": [
    "## Základní SQL\n",
    "1. Vytvořte novou databázi nazvanou stejně, jako je vaše uživatelské jméno.  \n",
    "`create database _username_;`\n",
    "2. Vypište si všechny databáze a ověřte, že tam vaše databáze je.  \n",
    "`show databases;`\n",
    "3. Přepněte se na svou databázi.  \n",
    "`use _username_;`\n",
    "4. Vytvořte ve své databázi tabulku `lide` s poli:\n",
    "\n",
    "  * jmeno\n",
    "  * vyska\n",
    "  * vaha\n",
    "  * kod_pohlavi\n",
    "  * datum narozeni\n",
    "  \n",
    "`create table lide (\n",
    "jmeno string,\n",
    "vyska int,\n",
    "vaha double,\n",
    "kod_pohlavi string,\n",
    "datum_narozeni datetime);`\n",
    "5. Vypište si tabulky ve své databázi a ověřte, že tam tabulka je.  \n",
    "`show tables;`\n",
    "6. Vložte do tabulky pět záznamů s libovolnými rozumnými hodnotami.  \n",
    "`insert into table lide values\n",
    "('Jan', 170, 64, 'M', '1967-11-08'),\n",
    "('Magda', 178, 71.5, 'Z', '1974-03-10'),\n",
    "('Karolina', 161, 42, 'Z', '2004-01-25'),\n",
    "('Jakub', 179, 81.5, 'M', '1970-12-12'),\n",
    "('Tomas', 156, 51, 'M', '2002-08-04');`\n",
    "7. Vypište si celou tabulku.  \n",
    "`select * from lide;`\n",
    "8. Vypište si pouze jména pro ženy nad 170 cm.  \n",
    "`select jmeno from lide where kod_pohlavi='Z' and vyska>170;`\n",
    "9. Vypište celý záznam člověka s největší váhou.  \n",
    "`select * from lide order by vaha desc limit 1;`"
   ]
  },
  {
   "cell_type": "markdown",
   "metadata": {},
   "source": [
    "## Agregační dotazy, JOINy\n",
    "10. Přepněte se na databázi fel_bigdata.  \n",
    "`use fel_bigdata;`\n",
    "11. Vypište si seznam tabulek v ní a u každé tabulky seznam polí.  \n",
    "`describe nhl_players;\n",
    "describe nhl_teams;`\n",
    "12. Vypište pět hráčů s nejvyššími celkovými počty vyhraných vhazování (faceoff) za všechny roky.  \n",
    "`select name, sum(foff_win) from nhl_players\n",
    "group by name\n",
    "order by sum(foff_win) desc\n",
    "limit 5;`\n",
    "13. Pokud se omezíme jen na záznamy hráčů za sezóny, kdy odehráli víc než 20 zápasů, mají vyšší průměrný počet vstřelených gólů hráči se změnou týmu během sezóny (team='TOT'), nebo hráči beze změny týmu (ostatní případy)?  \n",
    "`select avg(goals) from nhl_players where games>20 and team='TOT';`  \n",
    "`select avg(goals) from nhl_players where games>20 and team<>'TOT';`\n",
    "14. Pro každý tým spočítejte, kolik gólů při hře v oslabení (goals_sh) vstřelili jeho hráči celkem -- neberte ale v úvahu hráče se změnou týmu během sezóny. Uveďte tým s jeho plným názvem a celkový počet vstřelených gólů.  \n",
    "`select t.team_full, sum(p.goals_sh) from nhl_players as p\n",
    "join nhl_teams as t on p.team=t.team\n",
    "where p.team<>'TOT';`"
   ]
  }
 ],
 "metadata": {
  "kernelspec": {
   "display_name": "Python 3",
   "language": "python",
   "name": "python3"
  },
  "language_info": {
   "codemirror_mode": {
    "name": "ipython",
    "version": 3
   },
   "file_extension": ".py",
   "mimetype": "text/x-python",
   "name": "python",
   "nbconvert_exporter": "python",
   "pygments_lexer": "ipython3",
   "version": "3.7.0"
  }
 },
 "nbformat": 4,
 "nbformat_minor": 2
}
