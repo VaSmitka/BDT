{
 "cells": [
  {
   "cell_type": "markdown",
   "metadata": {},
   "source": [
    "##  Log in to metacentrum cluster\n",
    "```bash\n",
    "ssh username@hador.ics.muni.cz\n",
    "```"
   ]
  },
  {
   "cell_type": "markdown",
   "metadata": {},
   "source": [
    "### A. Local filesystem\n",
    "\n",
    "1. Make a directory `data` inside your home directory.\n",
    "1. Set rights for the `data` directory you have just made: read/write/execute for owner and group, read/execute for others.\n",
    "1. Browse and inspect the contents of the directory `/home/pascepet/fel_bigdata` including subdirectories.\n",
    "1. For advanced Linux users: get names of all files with `.zip` extension in the directory `/home/pascepet/fel_bigdata` (including subdirectories) by one Linux statement.\n",
    "1. Copy the file `iris.csv` from `/home/pascepet/fel_bigdata/data` to the subdirectory `data` in your home directory.\n",
    "1. How many lines are there in the file `iris.csv`? How many of them contain the string `Iris-setosa`?\n",
    "1. Set rights for the file `iris.csv`: read/write for owner, read for group and none for others.\n",
    "\n",
    "### B. HDFS\n",
    "1. Make a directory `data` inside your user directory at HDFS.\n",
    "1. Set rights for the `data` directory you have just made: read/write/execute for owner and group, read/execute for others.\n",
    "1. Browse and inspect the contents of the directory `/user/pascepet/data` at HDFS.\n",
    "1. Copy the file `bible-kjv.zip` from HDFS directory `/user/pascepet/data` to the `data` subdirectory of your HDFS user directory.\n",
    "1. Copy the file `bible-kjv.zip` from HDFS directory `/user/pascepet/data` to the `data` subdirectory of your home directory on local filesystem. \n",
    "1. Copy the file `iris.csv` from the `data` subdirectory of your home directory on local filesystem to the `data` subdirectory of your HDFS user directory.\n",
    "1. Set rights for the file `iris.csv` you have just copied to HDFS: read/write for owner, read for group and others."
   ]
  }
 ],
 "metadata": {
  "kernelspec": {
   "display_name": "Python 3",
   "language": "python",
   "name": "python3"
  },
  "language_info": {
   "codemirror_mode": {
    "name": "ipython",
    "version": 3
   },
   "file_extension": ".py",
   "mimetype": "text/x-python",
   "name": "python",
   "nbconvert_exporter": "python",
   "pygments_lexer": "ipython3",
   "version": "3.7.0"
  }
 },
 "nbformat": 4,
 "nbformat_minor": 2
}
