{
 "cells": [
  {
   "cell_type": "markdown",
   "metadata": {
    "collapsed": true
   },
   "source": [
    "Na vypracování testu máte 120 minut. Očekávanými a hodnocenými výstupy jsou:\n",
    "1.\tTextový soubor s názvem váš_login.txt (např. pascepet.txt) obsahující zdrojový kód příkazů, kterými jste provedli zadání. Pokud máte zároveň něco zjistit nebo vypsat, zaznamenejte to přímo do souboru, ideálně jako komentář. **Tento soubor na konci své práce zašlete mailem na adresu <jan.hucin@profinit.eu> a podepište se svým celým jménem.**\n",
    "2.\tExistence a vlastnosti souborů, adresářů, tabulek, které jste zkopírovali či vytvořili při plnění zadání. Ty zhodnotíme přímo na clusteru.\n",
    "V jednotlivých oblastech testu se hodnotí každý úkol nebo jeho část. Pokud si s nějakou částí zadání nebudete vědět rady, můžete ji přeskočit nebo zadání splnit bez této části, počet bodů se pak přiměřeně sníží.\n",
    "\n",
    "### HDFS operace (3 body)\n",
    "- Nastavte na svém uživatelském adresáři (/user/*váš_login*) v HDFS pro veřejnost právo read a execute. (Práva pro vlastníka a skupinu ponechte tak, jak jsou nyní.)\n",
    "- Ve svém uživatelském adresáři na HDFS (/user/*váš_login*) založte podadresář **chess_ratings** a nastavte u něj také pro veřejnost právo read a execute.\n",
    "- Zkopírujte z lokálního filesystemu na metacentru z podadresáře /home/pascepet/fel_bigdata/data/chess_ratings všechny soubory se jménem ve tvaru **standard_**___RRMM.csv___ na HDFS do podadresáře, který jste založili v předchozím kroku.\n",
    "\n",
    "> V dalších třech částech budete pracovat se stejnými daty. Na HDFS je adresář **/user/pascepet/data/chess_ratings_red** obsahující měsíční výpisy ratingové listiny hráčů šachu. Soubory jsou standardní textové s oddělovači (znak |), neobsahují hlavičky (názvy) sloupců. Každý řádek souboru obsahuje postupně tyto údaje: id a jméno hráče, stát, pohlaví, rating, počet odehraných her za minulé období, rok narození, rok a měsíc výpisu ratingové listiny.\n",
    "\n",
    "### Práce s Hive (9 bodů)\n",
    "Zkontrolujte, že máte založenou databázi Hive (název = váš login), a pokud ne, založte ji. Dále pracujte se svou databází.\n",
    "- Vytvořte externí tabulku Hive *ratings_ext* založenou na datech z výše uvedeného adresáře (v rámečku). Názvy polí a typy zvolte vhodně podle svého uvážení.\n",
    "- Vytvořte managed (interní) tabulku Hive *ratings* s formátem ORC a kompresí ZLIB. Do této tabulky přeneste data z externí tabulky, ale jen ty řádky, kde je jméno hráče neprázdné, rok narození větší než 0 a hodnota ratingu není null.\n",
    "\n",
    "Z výsledné tabulky *ratings* zjistěte pomocí SQL dotazu:\n",
    "- Který stát má nejnižší věkový průměr ze všech záznamů ve výpisech ratingové listiny a kolik tento průměr je (věk počítejte k roku 2019)?\n",
    "- Kterých pět hráčů má největší (kladný) rozdíl mezi maximální a minimální hodnotou svého ratingu?\n",
    "\n",
    "### Spark RDD (9 bodů)\n",
    "- Načtěte obsah výše uvedeného adresáře (v rámečku) do RDD.\n",
    "- Zjistěte, kolik unikátních hráčů je celkem ve výpisech uvedeno. Předpokládáme, že hráč je identifikován kombinací svého id a jména, záznamy s prázdným jménem neberte v úvahu.\n",
    "- Jméno každého hráče má několik částí, které jsou odděleny čárkou (např. „Navara, David“). Zjistěte, jaké jsou četnosti pro jednotlivé počty částí jména (kolik unikátních hráčů má jméno o jedné části, kolik jméno o dvou částech atd.).\n",
    "- Zjistěte, v kolika případech je některá část jména rovna řetězci „Mustafa“. Pokud je v jednom jménu víc takových částí, počítá se každá část.\n",
    "\n",
    "### Spark SQL (9 bodů)\n",
    "- Načtěte obsah výše uvedeného adresáře (v rámečku) do DataFrame.\n",
    "- Které všechny ženy z ČR (stát „CZE“) měly za aspoň jedno období ve výpisu rating vyšší než 2300?\n",
    "- Zjistěte, kteří tři hráči měli největší celkový počet odehraných her. Neberte v úvahu hráče s prázdným jménem.\n",
    "- Vezmeme-li v úvahu jen hráče uvedené ve výpisech v prosinci 2017 i v prosinci 2018, jaké jsou průměrné ratingy těchto hráčů za každý z uvedených dvou měsíců?\n"
   ]
  }
 ],
 "metadata": {
  "kernelspec": {
   "display_name": "Python 3",
   "language": "python",
   "name": "python3"
  },
  "language_info": {
   "codemirror_mode": {
    "name": "ipython",
    "version": 3
   },
   "file_extension": ".py",
   "mimetype": "text/x-python",
   "name": "python",
   "nbconvert_exporter": "python",
   "pygments_lexer": "ipython3",
   "version": "3.7.0"
  }
 },
 "nbformat": 4,
 "nbformat_minor": 1
}
