{
 "cells": [
  {
   "cell_type": "code",
   "execution_count": null,
   "metadata": {},
   "outputs": [],
   "source": [
    "import random\n",
    "arr = [random.randint(0, 10) for i in xrange(20)]"
   ]
  },
  {
   "cell_type": "code",
   "execution_count": null,
   "metadata": {
    "scrolled": true
   },
   "outputs": [],
   "source": [
    "print arr"
   ]
  },
  {
   "cell_type": "markdown",
   "metadata": {},
   "source": [
    "1. vypište každý druhý prvek pole"
   ]
  },
  {
   "cell_type": "code",
   "execution_count": null,
   "metadata": {
    "collapsed": true
   },
   "outputs": [],
   "source": [
    "# this construction is called list comprehension \n",
    "# http://www.pythonforbeginners.com/basics/list-comprehensions-in-python\n",
    "# enumerate allows you iterate over an array with index\n",
    "print [x for i, x in enumerate(arr) if i % 2 == 1]"
   ]
  },
  {
   "cell_type": "markdown",
   "metadata": {},
   "source": [
    "2. vypište každý druhý prvek pole a jen tehdy, pokud je větší než 5"
   ]
  },
  {
   "cell_type": "code",
   "execution_count": null,
   "metadata": {
    "collapsed": true
   },
   "outputs": [],
   "source": [
    "# you also can use conditions in comprehensions\n",
    "print [x for i, x in enumerate(arr) if i % 2 == 0 and x > 5]"
   ]
  },
  {
   "cell_type": "markdown",
   "metadata": {},
   "source": [
    "3. vytvořte pole, které obsahuje druhé mocniny prvního pole"
   ]
  },
  {
   "cell_type": "code",
   "execution_count": null,
   "metadata": {
    "collapsed": true
   },
   "outputs": [],
   "source": [
    "# instead of using math.pow you can use x ** 2\n",
    "print [x**2 for i, x in enumerate(arr)]"
   ]
  },
  {
   "cell_type": "markdown",
   "metadata": {},
   "source": [
    "4. vypište jen unikátní prvky pole"
   ]
  },
  {
   "cell_type": "code",
   "execution_count": null,
   "metadata": {
    "collapsed": true
   },
   "outputs": [],
   "source": [
    "# set - is data structure without duplicates\n",
    "print set(arr)"
   ]
  },
  {
   "cell_type": "markdown",
   "metadata": {},
   "source": [
    "5. napište funkci, která vrací dvojici (min, max) pro dané pole"
   ]
  },
  {
   "cell_type": "code",
   "execution_count": null,
   "metadata": {
    "collapsed": true
   },
   "outputs": [],
   "source": [
    "# python has a few nice and useful built-ins \n",
    "# one of them are array functions: min, max, sum\n",
    "def minmax(a):\n",
    "    return min(a), max(a)\n",
    "\n",
    "print minmax(arr)"
   ]
  },
  {
   "cell_type": "markdown",
   "metadata": {},
   "source": [
    "6. napište funkci, která vrací dvojici objekt/slovník {min:min(a), max:max(a)} pro dané pole"
   ]
  },
  {
   "cell_type": "code",
   "execution_count": null,
   "metadata": {
    "collapsed": true
   },
   "outputs": [],
   "source": [
    "# {} - create a new dictionary, which can be used a untyped dynamic generic object without schema\n",
    "def minmax(a):\n",
    "    return {\n",
    "        'min': min(a), \n",
    "        'max': max(a)\n",
    "    }\n",
    "\n",
    "print minmax(arr)"
   ]
  },
  {
   "cell_type": "code",
   "execution_count": null,
   "metadata": {
    "collapsed": true
   },
   "outputs": [],
   "source": [
    "some_string = \"sOmE SiImPLe\""
   ]
  },
  {
   "cell_type": "markdown",
   "metadata": {},
   "source": [
    "7. zaměňte v řetězci velká písmena za malá a obráceně"
   ]
  },
  {
   "cell_type": "code",
   "execution_count": null,
   "metadata": {},
   "outputs": [],
   "source": [
    "def invert(c):\n",
    "    \"\"\"\n",
    "    re - is the regular explression module\n",
    "    [a-z] means match any lower case character\n",
    "    https://docs.python.org/2/library/re.html\n",
    "    \"\"\"\n",
    "    import re\n",
    "    if re.match('[a-z]', c):\n",
    "        return c.upper()\n",
    "    return c.lower()\n",
    "\n",
    "# python has also a few built-in functions for functional processing\n",
    "# map, filter\n",
    "# here we treat a string as a list of characters\n",
    "\n",
    "print ''.join(map(invert, some_string))"
   ]
  },
  {
   "cell_type": "markdown",
   "metadata": {},
   "source": [
    "8. převeďte unixtime na datetime a vypište ho ve formátu yyyy-mm-dd HH:MM"
   ]
  },
  {
   "cell_type": "code",
   "execution_count": null,
   "metadata": {},
   "outputs": [],
   "source": [
    "import datetime\n",
    "\n",
    "# formatting https://docs.python.org/2/library/datetime.html#strftime-and-strptime-behavior\n",
    "# follows C-style\n",
    "\n",
    "datetime.datetime.fromtimestamp(1508489890).strftime('%Y-%m-%d %H:%M')"
   ]
  },
  {
   "cell_type": "markdown",
   "metadata": {},
   "source": [
    "9. zjistěte, kolik sekund/dnů/týdnů uplynulo od data August 21, 2017 18:26:40 UTC"
   ]
  },
  {
   "cell_type": "code",
   "execution_count": null,
   "metadata": {},
   "outputs": [],
   "source": [
    "# if you substract 2 dates, resulting object is timedelta\n",
    "# https://docs.python.org/2/library/datetime.html#timedelta-objects\n",
    "\n",
    "delta = datetime.datetime.now() - datetime.datetime(2017, 8, 21, 18, 26)\n",
    "\n",
    "print 'Ellapsed {0} seconds'.format(delta.seconds)\n",
    "print 'Ellapsed {0} days'.format(delta.days)\n",
    "print 'Ellapsed {0} weeks'.format(delta.days / 7.0)"
   ]
  },
  {
   "cell_type": "code",
   "execution_count": null,
   "metadata": {},
   "outputs": [],
   "source": [
    "sample_string = \"Give a man a fire and he's warm for the day. But set fire to him and he's warm for the rest of his life.\""
   ]
  },
  {
   "cell_type": "markdown",
   "metadata": {},
   "source": [
    "10. zjistěte počet slov v řetězci; slova jsou oddělena mezerou"
   ]
  },
  {
   "cell_type": "code",
   "execution_count": null,
   "metadata": {},
   "outputs": [],
   "source": [
    "# built-in function len returns number of elements in array\n",
    "\n",
    "print len(sample_string.split())"
   ]
  },
  {
   "cell_type": "markdown",
   "metadata": {},
   "source": [
    "11. zjistěte četnost jednotlivých slov v řetězci a vypište je jako dict {item: frequency}"
   ]
  },
  {
   "cell_type": "code",
   "execution_count": null,
   "metadata": {},
   "outputs": [],
   "source": [
    "word_freq = {}\n",
    "for word in sample_string.lower().split():\n",
    "    # you should test whether an item is in the dict\n",
    "    # using `in` keyword\n",
    "    if word in word_freq:\n",
    "        word_freq[word] += 1\n",
    "    else:\n",
    "        word_freq[word] = 1\n",
    "\n",
    "# another useful built-in function sorted\n",
    "# returns a sorted array\n",
    "print sorted(word_freq.items(), key=lambda x: -x[1])"
   ]
  },
  {
   "cell_type": "markdown",
   "metadata": {},
   "source": [
    "12. zjistěte, kdo má svátek v den vašich narozenin: http://svatky.adresa.info/json?date=ddmm"
   ]
  },
  {
   "cell_type": "code",
   "execution_count": null,
   "metadata": {},
   "outputs": [],
   "source": [
    "import requests\n",
    "# send a get request\n",
    "resp = requests.get('http://svatky.adresa.info/json?date=1503')\n",
    "\n",
    "print resp.json()[0]['name']"
   ]
  }
 ],
 "metadata": {
  "kernelspec": {
   "display_name": "Python 3",
   "language": "python",
   "name": "python3"
  },
  "language_info": {
   "codemirror_mode": {
    "name": "ipython",
    "version": 3
   },
   "file_extension": ".py",
   "mimetype": "text/x-python",
   "name": "python",
   "nbconvert_exporter": "python",
   "pygments_lexer": "ipython3",
   "version": "3.7.0"
  }
 },
 "nbformat": 4,
 "nbformat_minor": 2
}
