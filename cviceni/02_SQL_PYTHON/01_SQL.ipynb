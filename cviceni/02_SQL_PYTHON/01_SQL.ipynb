{
 "cells": [
  {
   "cell_type": "markdown",
   "metadata": {},
   "source": [
    "`beeline -u \"jdbc:hive2://hador-c1.ics.muni.cz:10000/default;principal=hive/hador-c1.ics.muni.cz@ICS.MUNI.CZ\"`"
   ]
  },
  {
   "cell_type": "markdown",
   "metadata": {},
   "source": [
    "1. Vytvořte novou databázi nazvanou stejně, jako je vaše uživatelské jméno.\n",
    "\n",
    "2. Vypište si všechny databáze a ověřte, že tam vaše databáze je.\n",
    "\n",
    "3. Přepněte se na svou databázi.\n",
    "\n",
    "4. Vytvořte ve své databázi tabulku lide s poli:\n",
    "    - jmeno\n",
    "    - vyska\n",
    "    - vaha\n",
    "    - kod_pohlavi\n",
    "    - datum narozeni\n",
    "\n",
    "5. Vytvořte si dále ve své databázi tabulku pohlavi s poli:\n",
    "    - kod_pohlavi\n",
    "    - popis\n",
    "\n",
    "6. Vypište si tabulky ve své databázi a ověřte, že tam tabulka je.\n",
    "\n",
    "7. Vložte do této tabulky záznamy za kódy pro muže, pro ženu a nějaký další kód.\n",
    "\n",
    "8. Vložte do tabulky pět záznamů s libovolnými rozumnými hodnotami.\n",
    "\n",
    "9. Vypište si celou tabulku.\n",
    "\n",
    "10. Vypište si pouze ženy nad 170 cm.\n",
    "\n",
    "11. Vypište člověka s největší váhou.\n",
    "\n",
    "12. Vypište tabulku se jmény a věkem v celých rocích.\n",
    "\n",
    "13. Vypište znovu celou tabulku lide s připojenou tabulkou pohlavi; \n",
    "    popis pohlaví místo kódu.\n",
    "    - vypíše jen řádky, kde jsou kódy pohlaví v obou tabulkách shodné\n",
    "    - vypíše i řádky, kde kód pohlaví neodpovídá druhé tabulce - doplní se NULL\n",
    "    - vypíše všechny kombinace řádků z první i druhé tabulky\n",
    "\n",
    "14. Vypočtěte průměrnou výšku pro muže a pro ženy.\n",
    "\n",
    "15. Vypočtěte rozdíl mezi průměrnou váhou mužů a průměrnou váhou žen.\n"
   ]
  }
 ],
 "metadata": {
  "kernelspec": {
   "display_name": "Python 3",
   "language": "python",
   "name": "python3"
  },
  "language_info": {
   "codemirror_mode": {
    "name": "ipython",
    "version": 3
   },
   "file_extension": ".py",
   "mimetype": "text/x-python",
   "name": "python",
   "nbconvert_exporter": "python",
   "pygments_lexer": "ipython3",
   "version": "3.6.4"
  }
 },
 "nbformat": 4,
 "nbformat_minor": 2
}
