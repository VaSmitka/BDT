{
 "cells": [
  {
   "cell_type": "markdown",
   "metadata": {},
   "source": [
    "# Rozchozeni zakladniho Spark Streaming prikladu\n",
    "\n",
    "1. Na klasteru vytvorit soubor `network_wordcount.py` a vlozit obsah z [prikladu](https://github.com/apache/spark/blob/branch-1.6/examples/src/main/python/streaming/network_wordcount.py)\n",
    "\n",
    "2. Pripojit se na klaster v terminalu-1 a spustit `nc -lk 5ddmm`, kde `ddmm` je vas datum narozeni \n",
    "\n",
    "3. Otevrete druhy terminal a spustite priklad pomoci prikazu `spark-submit --master yarn --num-executors 4 --conf spark.ui.port=4ddmm network_wordcount.py hador.ics.muni.cz 5ddmm`\n",
    "\n",
    "4. Muzete zacit psat zpravy do terminalu-1\n",
    "\n",
    "5. Upravit priklad tak aby vypisoval slova delsi nez 5 znaku a maji alespon 5 vyskytnuti"
   ]
  },
  {
   "cell_type": "markdown",
   "metadata": {},
   "source": [
    "# Rozchozeni stateful Spark Streaming prikladu\n",
    "\n",
    "1. Na klasteru vytvorit soubor `network_wordcount.py` a vlozit obsah z [prikladu](https://github.com/apache/spark/blob/branch-1.6/examples/src/main/python/streaming/stateful_network_wordcount.py)\n",
    "\n",
    "2. Pripojit se na klaster v terminalu-1 a spustit `nc -lk 5ddmm`, kde `ddmm` je vas datum narozeni \n",
    "\n",
    "3. Otevrete druhy terminal a spustite priklad pomoci prikazu `spark-submit --master yarn --num-executors 4 --conf spark.ui.port=4ddmm network_wordcount.py hador.ics.muni.cz 5ddmm`\n",
    "\n",
    "4. Muzete zacit psat zpravy do terminalu-1\n",
    "\n",
    "5. Upravit priklad tak aby vypisoval histogram delek zprav"
   ]
  },
  {
   "cell_type": "markdown",
   "metadata": {},
   "source": [
    "# Nacitani streamu\n",
    "\n",
    "1. Zkopirovat na klaster `generator.py`\n",
    "2. Zpustit generator zprav `python generator.py 5ddmm`\n",
    "\n",
    "Priklad zpravy\n",
    "```json\n",
    "{\n",
    "    \"cust_id\": 42,\n",
    "    \"ts\": 1513154110,\n",
    "    \"event_type\": \"temp_update\",\n",
    "    \"temperature\": 22,\n",
    "}\n",
    "```\n",
    "\n",
    "3. Napsat vlastny Spark Streaming program ktery\n",
    "    * Spocitat prumernu teplotu pro kazdeho zakaznika a vypsat 10 zakazniku\n",
    "    * Spocitat pocet udalosti per `event_type` a zapsat na HDFS\n",
    "    * Spocitat pocet mereni ktere meli teplotu vyssi nez 27"
   ]
  }
 ],
 "metadata": {
  "kernelspec": {
   "display_name": "Python 3",
   "language": "python",
   "name": "python3"
  },
  "language_info": {
   "codemirror_mode": {
    "name": "ipython",
    "version": 3
   },
   "file_extension": ".py",
   "mimetype": "text/x-python",
   "name": "python",
   "nbconvert_exporter": "python",
   "pygments_lexer": "ipython3",
   "version": "3.6.4"
  }
 },
 "nbformat": 4,
 "nbformat_minor": 2
}
