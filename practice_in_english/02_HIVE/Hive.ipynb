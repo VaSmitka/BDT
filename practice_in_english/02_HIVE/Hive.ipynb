{
 "cells": [
  {
   "cell_type": "markdown",
   "metadata": {},
   "source": [
    "### A. Data preparation\n",
    "\n",
    "1. Copy data from HDFS directory `/user/pascepet/data/teplota-usa.zip` to your home directory at the local system.\n",
    "1. Unzip the file `teplota-usa.zip`. (Hint: try the `unzip` Linux statement.)\n",
    "1. Make some new subdirectory in your user directory at HDFS (e. g. `hive_data`).\n",
    "1. Copy all unzipped files to the HDFS subdirectory you have just made."
   ]
  },
  {
   "cell_type": "markdown",
   "metadata": {},
   "source": [
    "### B. Database preparation\n",
    "\n",
    "1. Start HIVE CLI using command    \n",
    "`beeline -u \"jdbc:hive2://hador-c1.ics.muni.cz:10000/default;principal=hive/hador-c1.ics.muni.cz@ICS.MUNI.CZ\"`\n",
    "2. Create your database (if not exists).\n",
    "3. Make your database your working database.\n"
   ]
  },
  {
   "cell_type": "markdown",
   "metadata": {},
   "source": [
    "### C. External and internal table\n",
    "\n",
    "1. Create external table name temperature_tmp, csv file is separated by \",\" and contains column headers.\n",
    "\n",
    "| Column name | Data type |\n",
    "|:------------|:----------|\n",
    "| stanice     | string    |\n",
    "| mesic       | int       |\n",
    "| den         | int       |\n",
    "| hodina      | int       |\n",
    "| teplota     | double    |\n",
    "| flag        | string    |\n",
    "| latitude    | double    |\n",
    "| longitude   | double    |\n",
    "| vyska       | double    |\n",
    "| stat        | string    |\n",
    "| nazev       | string    |\n",
    "\n",
    "2. Create internal table `temperature`. Make it stored as parquet with snappy compression codec.\n",
    "\n",
    "3. Insert data into the internal table from the external one. Convert temperature data from 10xFahrenheit to celsius using formula $ (\\frac{F}{10} - 32) \\times \\frac{5}{9} $\n",
    "\n",
    "4. Drop external table. Then check that data files are still in your HDFS subdirectory."
   ]
  },
  {
   "cell_type": "markdown",
   "metadata": {},
   "source": [
    "### D. Quering \n",
    "\n",
    "1. Find a state with the highest average temperature in summer (month 6, 7, 8).\n",
    "1. For each month find state with the highest average temperature in this month."
   ]
  },
  {
   "cell_type": "markdown",
   "metadata": {},
   "source": [
    "### E. Create internal partitioned table\n",
    "\n",
    "1. Create table `temperature_part` same as `temperature` table but partitioned by month.\n",
    "1. Insert data into partitioned table.\n",
    "1. Inspect partitioned folder on HDFS (`/user/hive/warehouse/username.db/`).\n",
    "\n",
    "To enable dynamic partitioning execute this commands\n",
    "\n",
    "```\n",
    "set hive.exec.dynamic.partition=true;\n",
    "set hive.exec.dynamic.partition.mode=nonstrict;\n",
    "```\n"
   ]
  }
 ],
 "metadata": {
  "kernelspec": {
   "display_name": "Python 3",
   "language": "python",
   "name": "python3"
  },
  "language_info": {
   "codemirror_mode": {
    "name": "ipython",
    "version": 3
   },
   "file_extension": ".py",
   "mimetype": "text/x-python",
   "name": "python",
   "nbconvert_exporter": "python",
   "pygments_lexer": "ipython3",
   "version": "3.7.0"
  }
 },
 "nbformat": 4,
 "nbformat_minor": 2
}
