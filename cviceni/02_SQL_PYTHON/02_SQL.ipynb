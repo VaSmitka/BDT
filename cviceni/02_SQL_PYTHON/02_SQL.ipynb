{
 "cells": [
  {
   "cell_type": "markdown",
   "metadata": {},
   "source": [
    "`beeline -u \"jdbc:hive2://hador-c1.ics.muni.cz:10000/default;principal=hive/hador-c1.ics.muni.cz@ICS.MUNI.CZ\"`"
   ]
  },
  {
   "cell_type": "markdown",
   "metadata": {},
   "source": [
    "## Základní SQL\n",
    "1. Vytvořte novou databázi nazvanou stejně, jako je vaše uživatelské jméno.\n",
    "2. Vypište si všechny databáze a ověřte, že tam vaše databáze je.\n",
    "3. Přepněte se na svou databázi.\n",
    "4. Vytvořte ve své databázi tabulku `lide` s poli:\n",
    "\n",
    "  * jmeno\n",
    "  * vyska\n",
    "  * vaha\n",
    "  * kod_pohlavi\n",
    "  * datum narozeni\n",
    "\n",
    "\n",
    "5. Vypište si tabulky ve své databázi a ověřte, že tam tabulka je.\n",
    "6. Vložte do tabulky pět záznamů s libovolnými rozumnými hodnotami.\n",
    "7. Vypište si celou tabulku.\n",
    "8. Vypište si pouze jména pro ženy nad 170 cm.\n",
    "9. Vypište celý záznam člověka s největší váhou."
   ]
  },
  {
   "cell_type": "markdown",
   "metadata": {},
   "source": [
    "## Agregační dotazy, JOINy\n",
    "10. Přepněte se na databázi fel_bigdata.\n",
    "11. Vypište si seznam tabulek v ní a u každé tabulky seznam polí.\n",
    "12. Vypište pět hráčů s nejvyššími celkovými počty vyhraných vhazování (faceoff) za všechny roky.\n",
    "13. Pokud se omezíme jen na hráče, kteří odehráli víc než 20 zápasů v sezóně, mají vyšší průměrný počet vstřelených gólů hráči se změnou týmu během sezóny (team='TOT'), nebo hráči beze změny týmu (ostatní případy)?\n",
    "14. Pro každý tým spočítejte, kolik gólů při hře v oslabení (goals_sh) vstřelili jeho hráči celkem -- neberte ale v úvahu hráče se změnou týmu během sezóny. Uveďte tým s jeho plným názvem a celkový počet vstřelených gólů."
   ]
  }
 ],
 "metadata": {
  "kernelspec": {
   "display_name": "Python 3",
   "language": "python",
   "name": "python3"
  },
  "language_info": {
   "codemirror_mode": {
    "name": "ipython",
    "version": 3
   },
   "file_extension": ".py",
   "mimetype": "text/x-python",
   "name": "python",
   "nbconvert_exporter": "python",
   "pygments_lexer": "ipython3",
   "version": "3.7.0"
  }
 },
 "nbformat": 4,
 "nbformat_minor": 2
}
